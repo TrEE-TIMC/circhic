{
  "cells": [
    {
      "cell_type": "code",
      "execution_count": null,
      "metadata": {
        "collapsed": false
      },
      "outputs": [],
      "source": [
        "%matplotlib inline"
      ]
    },
    {
      "cell_type": "markdown",
      "metadata": {},
      "source": [
        "\n# Raw data\n\n"
      ]
    },
    {
      "cell_type": "code",
      "execution_count": null,
      "metadata": {
        "collapsed": false
      },
      "outputs": [],
      "source": [
        "import numpy as np\n\nimport matplotlib.pyplot as plt\n\nfrom circhic import datasets\nfrom circhic import CircHiCFigure\n\n# Load the data, compute the cumulative raw counts.\ndata = datasets.load_ccrescentus()\ncounts = data[\"counts\"]\nlengths = data[\"nbins\"]\ncumul_raw_counts = counts.sum(axis=0)\n\n# compute extreme values\nvmax = np.max(\n    [counts[i, (i+1) % counts.shape[0]] for i in range(counts.shape[0])])\nvmin = np.min(counts[counts > 0])\n\n# plotting the data\ngranularity = 0.5\nresolution = 9958\n\nfig = plt.figure(figsize=(6, 6))\n\ninner_radius, outer_radius = 0.005, 0.75\ninner_gdis, outer_gdis = 2000000, 600000\n\nchrom_lengths = lengths * resolution\ncirchicfig = CircHiCFigure(chrom_lengths, figure=fig)\n\nm, ax = circhicfig.plot_hic(counts, granularity=granularity,\n                            resolution=resolution, outer_radius=outer_radius,\n                            inner_radius=inner_radius, inner_gdis=inner_gdis,\n                            outer_gdis=outer_gdis, vmin=vmin*100, vmax=vmax,\n                            cmap=\"bone_r\", border_thickness=0.005)\n\n\nrax = circhicfig.plot_raxis()\nrax.set_yticklabels([\"200\", \"0\", \"60\"], fontsize=\"small\")\nrax.set_ylabel(\"Genomic distance (kb)\",\n               fontsize=\"small\", color=\"0.3\", position=(0, 1.03))\nrax.tick_params(colors=\"0.3\")\n\n# Assume you want to plot data from that ranges in a polar plot outside of the\n# first one. Then the 0 axis should be at, say, 80% of the axis\nbar, _ = circhicfig.plot_bars(\n    cumul_raw_counts, inner_radius=0.8, outer_radius=0.9,\n    color=\"C0\")\n\ncab = circhicfig.set_colorbar(m, orientation=\"horizontal\")\ncab.set_label(\"Normalized contact counts\", fontsize=\"small\")\n\nticklabels = [\"%d kb\" % (i * 500) for i in range(6)]\ntickpositions = [int(i*500000) for i in range(6)]\nticklabels[0] = \"oriC\"\nax = circhicfig.set_genomic_ticklabels(\n    tickpositions=tickpositions,\n    ticklabels=ticklabels,\n    outer_radius=0.9,\n    fontdict={'fontsize':\"small\"})\nax.tick_params(colors=\"0.3\")\n\nfig.legend((bar, ), (\"Mappability\", ), fontsize=\"small\",\n           bbox_to_anchor=(0.8, 0.1, 0.15, 0.15), frameon=False)\n\nprint(\"\")"
      ]
    }
  ],
  "metadata": {
    "kernelspec": {
      "display_name": "Python 3",
      "language": "python",
      "name": "python3"
    },
    "language_info": {
      "codemirror_mode": {
        "name": "ipython",
        "version": 3
      },
      "file_extension": ".py",
      "mimetype": "text/x-python",
      "name": "python",
      "nbconvert_exporter": "python",
      "pygments_lexer": "ipython3",
      "version": "3.7.1"
    }
  },
  "nbformat": 4,
  "nbformat_minor": 0
}