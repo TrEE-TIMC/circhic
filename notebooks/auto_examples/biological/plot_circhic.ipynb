{
  "cells": [
    {
      "cell_type": "code",
      "execution_count": null,
      "metadata": {
        "collapsed": false
      },
      "outputs": [],
      "source": [
        "%matplotlib inline"
      ]
    },
    {
      "cell_type": "markdown",
      "metadata": {},
      "source": [
        "\n# a circHiC figure showing biases and mappability\n\n"
      ]
    },
    {
      "cell_type": "code",
      "execution_count": null,
      "metadata": {
        "collapsed": false
      },
      "outputs": [],
      "source": [
        "import numpy as np\n\nimport matplotlib.pyplot as plt\n\nfrom circhic import datasets\nfrom circhic import CircHiCFigure\n\n\nfrom iced.normalization import ICE_normalization\n\n\ngranularity = 0.5\n# Load the data, compute the cumulative raw counts.\ndata = datasets.load_ccrescentus()\ncounts = data[\"counts\"]\nlengths = data[\"lengths\"]\n\ncumul_raw_counts = counts.sum(axis=0)\n# Normale the data using ICE, and keep the biases\ncounts, bias = ICE_normalization(counts, output_bias=True)\n\nfig = plt.figure(figsize=(6, 6))\ncirchicfig = CircHiCFigure(lengths, figure=fig)\nm, ax = circhicfig.plot_hic(counts, granularity=granularity,\n                            outer_radius=0.75, inner_radius=0.1,\n                            inner_gdis=120, outer_gdis=60,\n                            vmin=77, cmap=\"bone_r\")\n\ncirchicfig.plot_raxis()\n\n# Assume you want to plot data from that ranges in a polar plot outside of the\n# first one. Then the 0 axis should be at, say, 80% of the axis\nbar, _ = circhicfig.plot_bars(\n    cumul_raw_counts, inner_radius=0.8, outer_radius=0.9,\n    color=\"0\")\n\n# Now, plot a last plot, for the top 10% of the original axes\nlines, _ = circhicfig.plot_lines(\n    bias, color=\"0\", inner_radius=0.9, outer_radius=1)\n\ncab = circhicfig.set_colorbar(m, orientation=\"horizontal\")\ncab.set_label(\"Normalized contact counts\", fontweight=\"bold\",\n              fontsize=\"small\")\n\n# Now, try to do a simple \"theta-axis\" on the outer\nticklabels = [\n        \"%d kb\" % (i * 10) for i in np.arange(0, lengths.sum(), 50)[:-1]]\nticklabels[0] = \"ORI\"\nax = circhicfig.set_genomic_ticklabels(\n    tickpositions=np.arange(0, lengths.sum(), 50)[:-1],\n    ticklabels=ticklabels,\n    outer_radius=0.95)\nax.tick_params(colors=\"0.3\")\n#             verticalalignment=\"bottom\")\nfig.legend((bar, lines[0]), (\"Mappability\", \"Bias\"), fontsize=\"x-small\",\n           bbox_to_anchor=(0.8, 0.1, 0.15, 0.15), frameon=False)"
      ]
    }
  ],
  "metadata": {
    "kernelspec": {
      "display_name": "Python 3",
      "language": "python",
      "name": "python3"
    },
    "language_info": {
      "codemirror_mode": {
        "name": "ipython",
        "version": 3
      },
      "file_extension": ".py",
      "mimetype": "text/x-python",
      "name": "python",
      "nbconvert_exporter": "python",
      "pygments_lexer": "ipython3",
      "version": "3.8.0"
    }
  },
  "nbformat": 4,
  "nbformat_minor": 0
}