{
  "cells": [
    {
      "cell_type": "code",
      "execution_count": null,
      "metadata": {
        "collapsed": false
      },
      "outputs": [],
      "source": [
        "%matplotlib inline"
      ]
    },
    {
      "cell_type": "markdown",
      "metadata": {},
      "source": [
        "\n# Square versus circular displays\n"
      ]
    },
    {
      "cell_type": "code",
      "execution_count": null,
      "metadata": {
        "collapsed": false
      },
      "outputs": [],
      "source": [
        "import numpy as np\n\nimport matplotlib  # Need this to check the version\n\nimport matplotlib.pyplot as plt\n\nfrom matplotlib import colors\n\nfrom circhic import datasets\nfrom circhic import CircHiCFigure\nfrom circhic.utils import generate_circular_map\nfrom circhic.utils import generate_borders\n\nfrom iced.normalization import ICE_normalization\n\n#load the data\ndata = datasets.load_ccrescentus()\ncounts = data[\"counts\"]\nlengths = data[\"nbins\"]\ncounts, bias = ICE_normalization(counts, output_bias=True)\n\ngranularity = 0.5\ninner_radius = 0.005\nresolution = 9958\ninner_gdis, outer_gdis = 2000000, 600000\n\nCirc = generate_circular_map(counts, granularity=granularity,\n                             inner_radius=inner_radius, resolution=resolution,\n                             inner_gdis=inner_gdis, outer_gdis=outer_gdis,\n                             mode='reflect', origin=1,\n                             chromosome_type='circular')\n\nBord = generate_borders(counts, granularity=granularity,\n                        inner_radius=inner_radius, resolution=resolution,\n                        inner_gdis=inner_gdis, outer_gdis=outer_gdis, origin=1,\n                        chromosome_type='circular', thick_r=0.006)\n\nvmax = np.max([counts[i, (i+1) % lengths[0]] for i in range(lengths[0])])\nvmin = 77\n\nplt.figure(figsize=(15, 12))\n\nplt.subplot(1, 2, 1)\n\nif matplotlib.__version__ < \"3.2.0\":\n    norm = colors.SymLogNorm(vmin, vmax=vmax)\nelse:\n    norm = colors.SymLogNorm(vmin, vmax=vmax, base=np.e)\n\nplt.imshow(counts, norm=norm, cmap='bone_r')\nplt.xticks([])\nplt.yticks([])\nplt.title('square', pad=10, fontsize=20)\n\nplt.subplot(1, 2, 2)\n\nplt.imshow(Circ, norm=norm, cmap='bone_r',\n           interpolation='None')\nplt.imshow(vmax*Bord, norm=norm, cmap='Greys',\n           interpolation='None')\n\nplt.xticks([])\nplt.yticks([])\nplt.axis('off')\n\nplt.title('circular\\n inner gdis = 200 kb, outer gdis = 60 kb', pad=10,\n          fontsize=20)"
      ]
    }
  ],
  "metadata": {
    "kernelspec": {
      "display_name": "Python 3",
      "language": "python",
      "name": "python3"
    },
    "language_info": {
      "codemirror_mode": {
        "name": "ipython",
        "version": 3
      },
      "file_extension": ".py",
      "mimetype": "text/x-python",
      "name": "python",
      "nbconvert_exporter": "python",
      "pygments_lexer": "ipython3",
      "version": "3.8.12"
    }
  },
  "nbformat": 4,
  "nbformat_minor": 0
}