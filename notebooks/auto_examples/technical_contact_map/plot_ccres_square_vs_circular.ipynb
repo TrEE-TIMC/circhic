{
  "cells": [
    {
      "cell_type": "code",
      "execution_count": null,
      "metadata": {
        "collapsed": false
      },
      "outputs": [],
      "source": [
        "%matplotlib inline"
      ]
    },
    {
      "cell_type": "markdown",
      "metadata": {},
      "source": [
        "\n# Comparing square and circular representations\n\n"
      ]
    },
    {
      "cell_type": "code",
      "execution_count": null,
      "metadata": {
        "collapsed": false
      },
      "outputs": [],
      "source": [
        "import numpy as np\n\nimport matplotlib  # Need this to check the version\nfrom matplotlib import rc\nrc('text', usetex=True)\n\nimport matplotlib.pyplot as plt\n\nfrom matplotlib import colors\n\nfrom circhic import datasets\nfrom circhic import CircHiCFigure\nfrom circhic.utils import generate_circular_map\nfrom circhic.utils import generate_borders\n\nfrom iced.normalization import ICE_normalization\n\n#load the data\ndata = datasets.load_ccrescentus()\ncounts = data[\"counts\"]\nlengths = data[\"nbins\"]\ncounts, bias = ICE_normalization(counts, output_bias=True)\n\ngranularity = 0.5\ninner_radius = 0.005\nresolution = 9958\ninner_gdis, outer_gdis = 2000000, 600000\n\nCirc=generate_circular_map(counts, granularity=granularity, inner_radius=inner_radius, resolution=resolution,\n                           inner_gdis=inner_gdis, outer_gdis=outer_gdis, mode='reflect', origin=1, chromosome_type='circular')\nBord=generate_borders(counts, granularity=granularity, inner_radius=inner_radius, resolution=resolution,\n                      inner_gdis=inner_gdis, outer_gdis=outer_gdis, origin=1, chromosome_type='circular',\n                      thick_r=0.006)\n\nvmax=np.max([counts[i,(i+1)%lengths[0]] for i in range(lengths[0])])\nvmin=77\nmin_non_zero=np.min(counts[counts>0])\n\nplt.figure(figsize=(15,12))\n\nplt.subplot(1,2,1)\n\nif matplotlib.__version__ < \"3.2.0\": norm = colors.SymLogNorm(min_non_zero)\nelse: norm = colors.SymLogNorm(min_non_zero, base=np.e)\n\nplt.imshow(counts,norm=norm,vmin=vmin,vmax=vmax,cmap='bone_r')\nplt.xticks([]); plt.yticks([]);\nplt.title(r'\\textrm{square}',pad=10, fontsize=20);\n\nplt.subplot(1,2,2)\nplt.imshow(Circ,norm=norm,vmin=vmin,vmax=vmax,cmap='bone_r',interpolation='None')\nplt.imshow(vmax*Bord,norm=norm,vmin=vmin,vmax=vmax,cmap='Greys',interpolation='None')\nplt.xticks([]); plt.yticks([]);\nplt.axis('off');\nplt.title(r'\\textrm{circular}'+'\\n'+r'\\textrm{inner\\_gdis = 200 kb, outer\\_gdis = 60 kb}',pad=10, fontsize=20);"
      ]
    }
  ],
  "metadata": {
    "kernelspec": {
      "display_name": "Python 3",
      "language": "python",
      "name": "python3"
    },
    "language_info": {
      "codemirror_mode": {
        "name": "ipython",
        "version": 3
      },
      "file_extension": ".py",
      "mimetype": "text/x-python",
      "name": "python",
      "nbconvert_exporter": "python",
      "pygments_lexer": "ipython3",
      "version": "3.7.1"
    }
  },
  "nbformat": 4,
  "nbformat_minor": 0
}