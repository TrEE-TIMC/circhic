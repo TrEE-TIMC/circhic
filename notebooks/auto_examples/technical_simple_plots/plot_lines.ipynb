{
  "cells": [
    {
      "cell_type": "code",
      "execution_count": null,
      "metadata": {
        "collapsed": false
      },
      "outputs": [],
      "source": [
        "%matplotlib inline"
      ]
    },
    {
      "cell_type": "markdown",
      "metadata": {},
      "source": [
        "\n# Plotting lines\n\n\nHere's a small example showcasing how to plot lines on a circular strip.\n"
      ]
    },
    {
      "cell_type": "code",
      "execution_count": null,
      "metadata": {
        "collapsed": false
      },
      "outputs": [],
      "source": [
        "import numpy as np\nfrom circhic._base import CircHiCFigure"
      ]
    },
    {
      "cell_type": "markdown",
      "metadata": {},
      "source": [
        "First, simulate some data\n\n"
      ]
    },
    {
      "cell_type": "code",
      "execution_count": null,
      "metadata": {
        "collapsed": false
      },
      "outputs": [],
      "source": [
        "lengths = np.array([3500])\nrandom_state = np.random.RandomState(42)\ndata = random_state.randn(100)"
      ]
    },
    {
      "cell_type": "markdown",
      "metadata": {},
      "source": [
        "Then, create the `circhic` figure and plot the lines.\n\n"
      ]
    },
    {
      "cell_type": "code",
      "execution_count": null,
      "metadata": {
        "collapsed": false
      },
      "outputs": [],
      "source": [
        "circhicfig = CircHiCFigure(lengths)\n_, ax = circhicfig.plot_lines(\n    data,\n    inner_radius=0.5,\n    color=\"0\")\nax.set_title(\"Plotting lines\", fontweight=\"bold\")"
      ]
    }
  ],
  "metadata": {
    "kernelspec": {
      "display_name": "Python 3",
      "language": "python",
      "name": "python3"
    },
    "language_info": {
      "codemirror_mode": {
        "name": "ipython",
        "version": 3
      },
      "file_extension": ".py",
      "mimetype": "text/x-python",
      "name": "python",
      "nbconvert_exporter": "python",
      "pygments_lexer": "ipython3",
      "version": "3.7.1"
    }
  },
  "nbformat": 4,
  "nbformat_minor": 0
}