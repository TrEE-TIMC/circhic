{
  "cells": [
    {
      "cell_type": "code",
      "execution_count": null,
      "metadata": {
        "collapsed": false
      },
      "outputs": [],
      "source": [
        "%matplotlib inline"
      ]
    },
    {
      "cell_type": "markdown",
      "metadata": {},
      "source": [
        "\n# Plotting bands\n\n\nHere's a small example showcasing how to plot circular bands indicating\ncategorical data.\n"
      ]
    },
    {
      "cell_type": "code",
      "execution_count": null,
      "metadata": {
        "collapsed": false
      },
      "outputs": [],
      "source": [
        "import numpy as np\nfrom circhic._base import CircHiCFigure"
      ]
    },
    {
      "cell_type": "markdown",
      "metadata": {},
      "source": [
        "First, simulate some data\n\n"
      ]
    },
    {
      "cell_type": "code",
      "execution_count": null,
      "metadata": {
        "collapsed": false
      },
      "outputs": [],
      "source": [
        "lengths = np.array([3500])\nrandom_state = np.random.RandomState(42)\nsimulated_bands = random_state.randint(0, lengths.sum(), 100)\nsimulated_bands.sort()\nsimulated_bands = simulated_bands.reshape(-1, 2)\nlabels = np.random.randint(0, 3, simulated_bands.shape[0])"
      ]
    },
    {
      "cell_type": "markdown",
      "metadata": {},
      "source": [
        "In this first example, we are just going to plot a binary band: in or out of\nthe category. It can be useful to indicate the presence of a gene or a\ngeneset, or open/close chromatine.\n\n"
      ]
    },
    {
      "cell_type": "code",
      "execution_count": null,
      "metadata": {
        "collapsed": false
      },
      "outputs": [],
      "source": [
        "circhicfig = CircHiCFigure(lengths)\n_, ax = circhicfig.plot_bands(\n    simulated_bands[:, 0],\n    simulated_bands[:, 1],\n    colors=np.repeat(\"0.5\", simulated_bands.shape[0]),\n    inner_radius=0.7, outer_radius=0.8)\nax.set_title(\"Plotting binary bands\", fontweight=\"bold\")"
      ]
    },
    {
      "cell_type": "markdown",
      "metadata": {},
      "source": [
        "In this second example, we are going to provide specific category.\u00a0To do\nthis, we create a vector of colors representing the labels\n\n"
      ]
    },
    {
      "cell_type": "code",
      "execution_count": null,
      "metadata": {
        "collapsed": false
      },
      "outputs": [],
      "source": [
        "colors = np.asarray([\"C%d\" % d for d in labels])\ncirchicfig = CircHiCFigure(lengths)\n_, ax = circhicfig.plot_bands(\n    simulated_bands[:, 0],\n    simulated_bands[:, 1],\n    colors=colors,\n    inner_radius=0.7, outer_radius=0.8)\nax.set_title(\"Plotting 3 categorical bands\", fontweight=\"bold\")"
      ]
    }
  ],
  "metadata": {
    "kernelspec": {
      "display_name": "Python 3",
      "language": "python",
      "name": "python3"
    },
    "language_info": {
      "codemirror_mode": {
        "name": "ipython",
        "version": 3
      },
      "file_extension": ".py",
      "mimetype": "text/x-python",
      "name": "python",
      "nbconvert_exporter": "python",
      "pygments_lexer": "ipython3",
      "version": "3.7.1"
    }
  },
  "nbformat": 4,
  "nbformat_minor": 0
}