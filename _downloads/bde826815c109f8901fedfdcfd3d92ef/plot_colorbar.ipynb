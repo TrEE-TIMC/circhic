{
  "cells": [
    {
      "cell_type": "code",
      "execution_count": null,
      "metadata": {
        "collapsed": false
      },
      "outputs": [],
      "source": [
        "%matplotlib inline"
      ]
    },
    {
      "cell_type": "markdown",
      "metadata": {},
      "source": [
        "\n# Colorbars\n\n\nSmall example showcasing how to plot a vertical or horizontal colorbar.\n"
      ]
    },
    {
      "cell_type": "code",
      "execution_count": null,
      "metadata": {
        "collapsed": false
      },
      "outputs": [],
      "source": [
        "from iced.normalization import ICE_normalization\n\nfrom circhic import datasets\nfrom circhic._base import CircHiCFigure\n\n\n# Load the data, compute the cumulative raw counts.\ncounts, lengths = datasets.load_ccrescentus()\n# Normale the data using ICE, and keep the biases\ncounts, bias = ICE_normalization(counts, output_bias=True)"
      ]
    },
    {
      "cell_type": "markdown",
      "metadata": {},
      "source": [
        "A simple vertical colorbar\n\n"
      ]
    },
    {
      "cell_type": "code",
      "execution_count": null,
      "metadata": {
        "collapsed": false
      },
      "outputs": [],
      "source": [
        "circhicfig = CircHiCFigure(lengths)\nim, ax = circhicfig.plot_hic(counts)\ncab = circhicfig.set_colorbar(im)\ncab.set_label(\"Normalized contact counts\", fontweight=\"bold\")"
      ]
    },
    {
      "cell_type": "markdown",
      "metadata": {},
      "source": [
        "A simple horizontal colorbar\n\n"
      ]
    },
    {
      "cell_type": "code",
      "execution_count": null,
      "metadata": {
        "collapsed": false
      },
      "outputs": [],
      "source": [
        "circhicfig = CircHiCFigure(lengths)\nim, ax = circhicfig.plot_hic(counts, cmap=\"bone_r\")\ncab = circhicfig.set_colorbar(im, orientation=\"horizontal\")\ncab.set_label(\"Normalized contact counts\", fontweight=\"bold\")"
      ]
    }
  ],
  "metadata": {
    "kernelspec": {
      "display_name": "Python 3",
      "language": "python",
      "name": "python3"
    },
    "language_info": {
      "codemirror_mode": {
        "name": "ipython",
        "version": 3
      },
      "file_extension": ".py",
      "mimetype": "text/x-python",
      "name": "python",
      "nbconvert_exporter": "python",
      "pygments_lexer": "ipython3",
      "version": "3.7.1"
    }
  },
  "nbformat": 4,
  "nbformat_minor": 0
}