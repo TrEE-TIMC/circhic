{
  "cells": [
    {
      "cell_type": "code",
      "execution_count": null,
      "metadata": {
        "collapsed": false
      },
      "outputs": [],
      "source": [
        "%matplotlib inline"
      ]
    },
    {
      "cell_type": "markdown",
      "metadata": {},
      "source": [
        "\n# Reflect versus distant mode\n\n\nIn this example, we showcase the difference between the reflect versus the\ndistant mode.\n"
      ]
    },
    {
      "cell_type": "code",
      "execution_count": null,
      "metadata": {
        "collapsed": false
      },
      "outputs": [],
      "source": [
        "from iced.normalization import ICE_normalization\n\nfrom circhic import datasets\nfrom circhic._base import CircHiCFigure\n\n\n# Load the data, compute the cumulative raw counts.\ndata = datasets.load_ecoli()\ncounts = data[\"counts\"]\nlengths = data[\"lengths\"]\n\n# Normale the data using ICE, and keep the biases\ncounts, bias = ICE_normalization(counts, output_bias=True)"
      ]
    },
    {
      "cell_type": "markdown",
      "metadata": {},
      "source": [
        "The reflect mode (the default) will plot data corresponding to the upper and\nlower triangular of the original contact count matrix\n\n"
      ]
    },
    {
      "cell_type": "code",
      "execution_count": null,
      "metadata": {
        "collapsed": false
      },
      "outputs": [],
      "source": [
        "circhicfig = CircHiCFigure(lengths)\nim, ax = circhicfig.plot_hic(counts, mode=\"reflect\", inner_gdis=50,\n                             inner_radius=0.3)"
      ]
    },
    {
      "cell_type": "markdown",
      "metadata": {},
      "source": [
        "The distant mode will plot the data between inner_gdis and outer_gdis, thus\nignoring the section close to the diagonal.\n\n"
      ]
    },
    {
      "cell_type": "code",
      "execution_count": null,
      "metadata": {
        "collapsed": false
      },
      "outputs": [],
      "source": [
        "circhicfig = CircHiCFigure(lengths)\nim, ax = circhicfig.plot_hic(counts, mode=\"distant\", inner_gdis=50,\n                             inner_radius=0.3)"
      ]
    }
  ],
  "metadata": {
    "kernelspec": {
      "display_name": "Python 3",
      "language": "python",
      "name": "python3"
    },
    "language_info": {
      "codemirror_mode": {
        "name": "ipython",
        "version": 3
      },
      "file_extension": ".py",
      "mimetype": "text/x-python",
      "name": "python",
      "nbconvert_exporter": "python",
      "pygments_lexer": "ipython3",
      "version": "3.8.0"
    }
  },
  "nbformat": 4,
  "nbformat_minor": 0
}