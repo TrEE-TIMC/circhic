{
  "cells": [
    {
      "cell_type": "code",
      "execution_count": null,
      "metadata": {
        "collapsed": false
      },
      "outputs": [],
      "source": [
        "%matplotlib inline"
      ]
    },
    {
      "cell_type": "markdown",
      "metadata": {},
      "source": [
        "\n# A human chromosome: KBM7's chr11\n\nHere, we plot the raw contact counts of KBM7's chromosome 11, and the\ncumulative raw contact counts.\n"
      ]
    },
    {
      "cell_type": "code",
      "execution_count": null,
      "metadata": {
        "collapsed": false
      },
      "outputs": [],
      "source": [
        "from circhic import CircHiCFigure, datasets\n\ndata = datasets.load_kbm7()\ncounts = data[\"counts\"]\nlengths = data[\"nbins\"]\n\ncum_raw_counts = counts.sum(axis=1)\n\ncircfig = CircHiCFigure(lengths, chromosome_type=\"linear\")\ncircfig.plot_hic(counts, inner_radius=0.5, outer_radius=0.89, cmap=\"bone_r\",\n                 inner_gdis=80, outer_gdis=80)\n_, ax = circfig.plot_bars(\n    cum_raw_counts,\n    inner_radius=0.9,\n    outer_radius=0.99,\n    color=\"0\")\ncircfig.set_genomic_ticklabels(\n    fontdict={\"fontsize\": \"small\", \"color\": \"0.3\"})\n\nrax = circfig.plot_raxis()\nrax.set_yticklabels([\"6\", \"0\", \"6\"], fontsize=\"small\")\n\nrax.set_ylabel(\"Genomic distance (Mb)\", fontsize=\"small\", color=\"0.3\",\n               position=(0, 1.03))"
      ]
    }
  ],
  "metadata": {
    "kernelspec": {
      "display_name": "Python 3",
      "language": "python",
      "name": "python3"
    },
    "language_info": {
      "codemirror_mode": {
        "name": "ipython",
        "version": 3
      },
      "file_extension": ".py",
      "mimetype": "text/x-python",
      "name": "python",
      "nbconvert_exporter": "python",
      "pygments_lexer": "ipython3",
      "version": "3.8.12"
    }
  },
  "nbformat": 4,
  "nbformat_minor": 0
}