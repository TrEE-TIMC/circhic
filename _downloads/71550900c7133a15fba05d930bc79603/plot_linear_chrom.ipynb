{
  "cells": [
    {
      "cell_type": "code",
      "execution_count": null,
      "metadata": {
        "collapsed": false
      },
      "outputs": [],
      "source": [
        "%matplotlib inline"
      ]
    },
    {
      "cell_type": "markdown",
      "metadata": {},
      "source": [
        "\n==============================\nKBM-7 cell line, chromosome XI\n==============================\n\nData: Rao SSP, et al. (2014) Cell 159(7):1665\u20131680\n"
      ]
    },
    {
      "cell_type": "code",
      "execution_count": null,
      "metadata": {
        "collapsed": false
      },
      "outputs": [],
      "source": [
        "from circhic import datasets, CircHiCFigure\nimport matplotlib.pyplot as plt\n\ndata = datasets.load_kbm7()\ncounts = data[\"counts\"]\nnbins = data[\"nbins\"]\n\n\ncircfig = CircHiCFigure(lengths=nbins, chromosome_type=\"linear\")\ncircfig.plot_hic(counts, inner_gdis=120, outer_gdis=120, cmap=\"bone_r\",\n                 inner_radius=0.6, border_thickness=0.005)\n\nrax = circfig.plot_raxis()\nrax.set_yticklabels([\"6\", \"0\", \"6\"], fontsize=\"small\")\n\nrax.set_ylabel(\"Genomic distance (Mb)\", fontsize=\"small\", color=\"0.3\",\n               position=(0, 1.03))\nrax.tick_params(colors=\"0.3\")"
      ]
    }
  ],
  "metadata": {
    "kernelspec": {
      "display_name": "Python 3",
      "language": "python",
      "name": "python3"
    },
    "language_info": {
      "codemirror_mode": {
        "name": "ipython",
        "version": 3
      },
      "file_extension": ".py",
      "mimetype": "text/x-python",
      "name": "python",
      "nbconvert_exporter": "python",
      "pygments_lexer": "ipython3",
      "version": "3.7.1"
    }
  },
  "nbformat": 4,
  "nbformat_minor": 0
}