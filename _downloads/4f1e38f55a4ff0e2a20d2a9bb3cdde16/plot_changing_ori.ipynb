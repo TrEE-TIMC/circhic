{
  "cells": [
    {
      "cell_type": "code",
      "execution_count": null,
      "metadata": {
        "collapsed": false
      },
      "outputs": [],
      "source": [
        "%matplotlib inline"
      ]
    },
    {
      "cell_type": "markdown",
      "metadata": {},
      "source": [
        "\n# Changing the origin of the heatmap\n\n"
      ]
    },
    {
      "cell_type": "code",
      "execution_count": null,
      "metadata": {
        "collapsed": false
      },
      "outputs": [],
      "source": [
        "from iced.normalization import ICE_normalization\n\nfrom circhic import datasets\nfrom circhic._base import CircHiCFigure\n\n\n# Load the data, compute the cumulative raw counts.\ncounts, lengths = datasets.load_ccrescentus()\ncumul_raw_counts = counts.sum(axis=0)\n# Normale the data using ICE, and keep the biases\ncounts, bias = ICE_normalization(counts, output_bias=True)\n\ncirchicfig = CircHiCFigure(lengths, origin=lengths.sum() / 4)\ncirchicfig.plot_hic(counts, outer_radius=0.75)\n\n# Assume you want to plot data from that ranges in a polar plot outside of the\n# first one. Then the 0 axis should be at, say, 80% of the axis\ncirchicfig.plot_bars(cumul_raw_counts, inner_radius=0.8, outer_radius=0.9,\n                     color=\"0\")\n# Now, plot a last plot, for the top 10% of the original axes\ncirchicfig.plot_lines(bias, color=\"0\", inner_radius=0.9, outer_radius=1)\n\n\n# Now, try to do a simple \"theta-axis\" on the outer\nax = circhicfig.set_genomic_ticklabels()"
      ]
    }
  ],
  "metadata": {
    "kernelspec": {
      "display_name": "Python 3",
      "language": "python",
      "name": "python3"
    },
    "language_info": {
      "codemirror_mode": {
        "name": "ipython",
        "version": 3
      },
      "file_extension": ".py",
      "mimetype": "text/x-python",
      "name": "python",
      "nbconvert_exporter": "python",
      "pygments_lexer": "ipython3",
      "version": "3.7.1"
    }
  },
  "nbformat": 4,
  "nbformat_minor": 0
}