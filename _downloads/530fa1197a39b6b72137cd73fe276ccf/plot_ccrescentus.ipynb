{
  "cells": [
    {
      "cell_type": "code",
      "execution_count": null,
      "metadata": {
        "collapsed": false
      },
      "outputs": [],
      "source": [
        "%matplotlib inline"
      ]
    },
    {
      "cell_type": "markdown",
      "metadata": {},
      "source": [
        "\n===============\n*C. crescentus*\n===============\n\nLoading and plotting *C. crescentus* data.\n"
      ]
    },
    {
      "cell_type": "code",
      "execution_count": null,
      "metadata": {
        "collapsed": false
      },
      "outputs": [],
      "source": [
        "from circhic import datasets\nimport matplotlib.pyplot as plt\nfrom matplotlib import colors\n\ncounts, lengths = datasets.load_ccrescentus()\n\nfig, ax = plt.subplots()\nax.imshow(counts, norm=colors.SymLogNorm(1), interpolation=\"none\")"
      ]
    }
  ],
  "metadata": {
    "kernelspec": {
      "display_name": "Python 3",
      "language": "python",
      "name": "python3"
    },
    "language_info": {
      "codemirror_mode": {
        "name": "ipython",
        "version": 3
      },
      "file_extension": ".py",
      "mimetype": "text/x-python",
      "name": "python",
      "nbconvert_exporter": "python",
      "pygments_lexer": "ipython3",
      "version": "3.7.1"
    }
  },
  "nbformat": 4,
  "nbformat_minor": 0
}