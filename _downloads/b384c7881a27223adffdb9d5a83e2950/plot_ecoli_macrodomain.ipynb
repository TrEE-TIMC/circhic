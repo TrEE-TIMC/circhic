{
  "cells": [
    {
      "cell_type": "code",
      "execution_count": null,
      "metadata": {
        "collapsed": false
      },
      "outputs": [],
      "source": [
        "%matplotlib inline"
      ]
    },
    {
      "cell_type": "markdown",
      "metadata": {},
      "source": [
        "\n# Macrodomain phenomenology\n\n"
      ]
    },
    {
      "cell_type": "code",
      "execution_count": null,
      "metadata": {
        "collapsed": false
      },
      "outputs": [],
      "source": [
        "import numpy as np\n\nfrom matplotlib import rc\nrc('text', usetex=True)\n\nimport matplotlib.pyplot as plt\n\nfrom matplotlib import colors\n\nfrom circhic import datasets\nfrom circhic import CircHiCFigure\nfrom circhic.utils import generate_circular_map\nfrom circhic.utils import generate_borders\n\nfrom iced.normalization import ICE_normalization\n\n# Load the data, compute the cumulative raw counts.\ndata = datasets.load_ecoli()\ncounts_raw = data[\"counts\"]\nlengths = data[\"nbins\"]\nlog_cumul_raw_counts = np.log(counts_raw.sum(axis=0))\n\n# Normalize the data using ICE, and keep the biases\ncounts, bias = ICE_normalization(counts_raw, output_bias=True)\n\n#compute extreme values\nvmax=np.max([counts[i,(i+1)%counts.shape[0]] for i in range(counts.shape[0])])\nvmin=np.min(counts[counts>0])\n\ngranularity = 0.5\nresolution = 9897\n\nfig = plt.figure(figsize=(6, 6))\n\ninner_radius, outer_radius = 0.15, 0.85\ninner_gdis, outer_gdis = 1200000, 1200000\n\nchrom_lengths = lengths * resolution\ncirchicfig = CircHiCFigure(chrom_lengths, figure=fig)\nm, ax = circhicfig.plot_hic(counts, granularity=granularity, resolution = resolution,\n                            outer_radius=outer_radius, inner_radius=inner_radius,\n                            inner_gdis=inner_gdis, outer_gdis=outer_gdis,\n                            vmin=vmin*10, vmax=vmax/2, cmap=\"bone_r\",border_thickness=0.005)\n\nrax = circhicfig.plot_raxis()\nrax.set_yticklabels([\"120\", \"0\", \"120\"], fontsize=\"small\")\nrax.set_ylabel(\"Genomic distance (kb)\", fontsize=\"small\", color=\"0.3\", position=(0,1.03))\nrax.tick_params(colors=\"0.3\")\n\nlines, _ = circhicfig.plot_lines(\n    log_cumul_raw_counts, inner_radius=0.87, outer_radius=0.95,\n    color=\"C0\")\n\nticklabels = [\"%d~kb\" % (i * 500) for i in range(8)]    \ntickpositions=[int(i*500000) for i in range(8)]\nticklabels.append(r\"$\\textit{oriC}$\")\ntickpositions.append(3925589)\nax = circhicfig.set_genomic_ticklabels(\n    tickpositions=tickpositions,\n    ticklabels=ticklabels,\n    outer_radius=0.96,fontdict={'fontsize':\"small\"})\nax.tick_params(colors=\"0.3\")\n\ninner_radius, outer_radius = 0.485, 0.515\nband, _ = circhicfig.plot_bands(np.array([int(0.26*chrom_lengths[0])]), np.array([int(0.41*chrom_lengths[0])]), colors=('cyan',),\n                      inner_radius=inner_radius, outer_radius=outer_radius)\n\ncab = circhicfig.set_colorbar(m, orientation=\"horizontal\")\ncab.set_label(\"Normalized contact counts\", fontsize=\"small\")\n\nfig.legend((lines[0],band), (\"Log-mappability\",\"Ter\"), fontsize=\"small\",\n           bbox_to_anchor=(0.8, 0.1, 0.15, 0.15), frameon=False)\n\nprint(\"\")"
      ]
    }
  ],
  "metadata": {
    "kernelspec": {
      "display_name": "Python 3",
      "language": "python",
      "name": "python3"
    },
    "language_info": {
      "codemirror_mode": {
        "name": "ipython",
        "version": 3
      },
      "file_extension": ".py",
      "mimetype": "text/x-python",
      "name": "python",
      "nbconvert_exporter": "python",
      "pygments_lexer": "ipython3",
      "version": "3.7.1"
    }
  },
  "nbformat": 4,
  "nbformat_minor": 0
}