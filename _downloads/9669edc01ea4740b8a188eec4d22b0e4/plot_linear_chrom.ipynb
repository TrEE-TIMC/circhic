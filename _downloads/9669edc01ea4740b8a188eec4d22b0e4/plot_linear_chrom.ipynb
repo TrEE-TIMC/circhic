{
  "cells": [
    {
      "cell_type": "code",
      "execution_count": null,
      "metadata": {
        "collapsed": false
      },
      "outputs": [],
      "source": [
        "%matplotlib inline"
      ]
    },
    {
      "cell_type": "markdown",
      "metadata": {},
      "source": [
        "\n# Plotting linear chromosomes\n\n"
      ]
    },
    {
      "cell_type": "code",
      "execution_count": null,
      "metadata": {
        "collapsed": false
      },
      "outputs": [],
      "source": [
        "from circhic import datasets, CircHiCFigure\n\ndata = datasets.load_kbm7()\ncounts = data[\"counts\"]\nnbins = data[\"nbins\"]\n\n\ncircfig = CircHiCFigure(lengths=nbins, chromosome_type=\"linear\")\ncircfig.plot_hic(counts, inner_gdis=80, outer_gdis=80, cmap=\"bone_r\",\n                 inner_radius=0.5)\ncircfig.plot_raxis()"
      ]
    }
  ],
  "metadata": {
    "kernelspec": {
      "display_name": "Python 3",
      "language": "python",
      "name": "python3"
    },
    "language_info": {
      "codemirror_mode": {
        "name": "ipython",
        "version": 3
      },
      "file_extension": ".py",
      "mimetype": "text/x-python",
      "name": "python",
      "nbconvert_exporter": "python",
      "pygments_lexer": "ipython3",
      "version": "3.7.1"
    }
  },
  "nbformat": 4,
  "nbformat_minor": 0
}