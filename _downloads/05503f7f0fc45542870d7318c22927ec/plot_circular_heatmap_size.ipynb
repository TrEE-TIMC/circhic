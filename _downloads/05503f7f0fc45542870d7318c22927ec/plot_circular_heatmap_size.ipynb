{
  "cells": [
    {
      "cell_type": "code",
      "execution_count": null,
      "metadata": {
        "collapsed": false
      },
      "outputs": [],
      "source": [
        "%matplotlib inline"
      ]
    },
    {
      "cell_type": "markdown",
      "metadata": {},
      "source": [
        "\n# Exploring the options of the circular heatmaps\n\n\nThere are several interesting options to explore for plotting heatmaps with\n`circhic`. First, one can adjust the data plotted by setting the maximum inner\nand outer genomic distance of the contact count being plotted. The inner\ndistance corresponds to the \"lower triangular\" matrix of the contact count\nmaps, an the outter distance to the upper triangular matrix. The data is thus\nsymmetric to the midpoint, ie the \"diagonal\" of the contact count matrix.\n\nThe second set of parameters that can be adjusted is the inner relates to the\nsize of the disk: the inner and outer radius of the disk relative to the\nmaximum outer radius possible (1). The outer radius will only affect how much\nof the total available space is used, while the inner radius will effectively\nadd white space to the disk.\n"
      ]
    },
    {
      "cell_type": "code",
      "execution_count": null,
      "metadata": {
        "collapsed": false
      },
      "outputs": [],
      "source": [
        "import matplotlib.pyplot as plt\nfrom iced.normalization import ICE_normalization\n\nfrom circhic import datasets\nfrom circhic._base import CircHiCFigure\n\n\n# Load the data, compute the cumulative raw counts.\ncounts, lengths = datasets.load_ccrescentus()\ncumul_raw_counts = counts.sum(axis=0)\n# Normale the data using ICE, and keep the biases\ncounts, bias = ICE_normalization(counts, output_bias=True)\n\n# Now, create a figure with two rows and two columns\nfig, axes = plt.subplots(nrows=3, ncols=3, figsize=(8, 8))\ncirchicfig = CircHiCFigure(lengths, figure=fig)\n\n\n# A basic Circular HiC plot.\ncirchicfig.plot_hic(counts, ax=axes[0, 0])\naxes[0, 0].set_title(\"Default\", fontsize=\"x-small\", fontweight=\"bold\")\naxes[0, 0].set_ylabel(\"Default inner radius\", fontsize=\"x-small\",\n                      fontweight=\"bold\", labelpad=0, zorder=10)\n\n# Only plotting the \"upper-diagonal\" contact count matrix\ncirchicfig.plot_hic(counts, ax=axes[0, 1], inner_gdis=0)\naxes[0, 1].set_title(\"Varying data plotted on\\nthe inner genomic distance\",\n                     fontsize=\"x-small\", fontweight=\"bold\")\n\n# Only plotting the \"lower-diagonal\" contact count matrix\ncirchicfig.plot_hic(counts, ax=axes[0, 2], outer_gdis=0)\naxes[0, 2].set_title(\"Varying data plotted on\\nthe outer genomic distance\",\n                     fontsize=\"x-small\", fontweight=\"bold\")\n\n# The same data as the first plot, but with an inner radius corresponding to\n# 25% of the available size.\ncirchicfig.plot_hic(counts, inner_radius=0.25, ax=axes[1, 0])\naxes[1, 0].set_ylabel(\"Varing inner radius\", fontsize=\"x-small\",\n                      fontweight=\"bold\", labelpad=0, zorder=10)\n\n# The same data as the second plot, but with an inner radius corresponding to\n# 25% of the available size.\ncirchicfig.plot_hic(counts, inner_gdis=0, inner_radius=0.25, ax=axes[1, 1])\n\n# The same data as the third plot, but with an inner radius corresponding to\n# 25% of the available size.\ncirchicfig.plot_hic(counts, outer_gdis=0, inner_radius=0.25, ax=axes[1, 2])\n\n# The same data as the first plot, but with an inner radius corresponding to\n# 25% of the available size.\ncirchicfig.plot_hic(counts, outer_radius=0.75, ax=axes[2, 0])\naxes[2, 0].set_ylabel(\"Varing outer radius\", fontsize=\"x-small\",\n                      fontweight=\"bold\", labelpad=0, zorder=10)\n\n# The same data as the second plot, but with an inner radius corresponding to\n# 25% of the available size.\ncirchicfig.plot_hic(counts, inner_gdis=0, outer_radius=0.75, ax=axes[2, 1])\n\n# The same data as the third plot, but with an inner radius corresponding to\n# 25% of the available size.\ncirchicfig.plot_hic(counts, outer_gdis=0, outer_radius=0.75, ax=axes[2, 2])"
      ]
    }
  ],
  "metadata": {
    "kernelspec": {
      "display_name": "Python 3",
      "language": "python",
      "name": "python3"
    },
    "language_info": {
      "codemirror_mode": {
        "name": "ipython",
        "version": 3
      },
      "file_extension": ".py",
      "mimetype": "text/x-python",
      "name": "python",
      "nbconvert_exporter": "python",
      "pygments_lexer": "ipython3",
      "version": "3.7.1"
    }
  },
  "nbformat": 4,
  "nbformat_minor": 0
}