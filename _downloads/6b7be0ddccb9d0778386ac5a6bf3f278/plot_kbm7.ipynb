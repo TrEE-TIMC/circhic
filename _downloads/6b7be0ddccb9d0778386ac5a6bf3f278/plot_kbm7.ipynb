{
  "cells": [
    {
      "cell_type": "code",
      "execution_count": null,
      "metadata": {
        "collapsed": false
      },
      "outputs": [],
      "source": [
        "%matplotlib inline"
      ]
    },
    {
      "cell_type": "markdown",
      "metadata": {},
      "source": [
        "\n============================\nHuman (KBM7) - chromosome 14\n============================\n\nLoading and plotting KBM7's chromosome 14 data.\n"
      ]
    },
    {
      "cell_type": "code",
      "execution_count": null,
      "metadata": {
        "collapsed": false
      },
      "outputs": [],
      "source": [
        "from circhic import datasets\nimport matplotlib.pyplot as plt\nfrom matplotlib import colors\n\ndata = datasets.load_kbm7()\ncounts = data[\"counts\"]\n\nfig, ax = plt.subplots()\nax.imshow(counts, norm=colors.SymLogNorm(1), interpolation=\"none\")"
      ]
    }
  ],
  "metadata": {
    "kernelspec": {
      "display_name": "Python 3",
      "language": "python",
      "name": "python3"
    },
    "language_info": {
      "codemirror_mode": {
        "name": "ipython",
        "version": 3
      },
      "file_extension": ".py",
      "mimetype": "text/x-python",
      "name": "python",
      "nbconvert_exporter": "python",
      "pygments_lexer": "ipython3",
      "version": "3.8.0"
    }
  },
  "nbformat": 4,
  "nbformat_minor": 0
}