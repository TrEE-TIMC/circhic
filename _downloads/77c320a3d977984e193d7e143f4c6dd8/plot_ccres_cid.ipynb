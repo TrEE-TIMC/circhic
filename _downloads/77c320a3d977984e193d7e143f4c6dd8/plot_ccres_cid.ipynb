{
  "cells": [
    {
      "cell_type": "code",
      "execution_count": null,
      "metadata": {
        "collapsed": false
      },
      "outputs": [],
      "source": [
        "%matplotlib inline"
      ]
    },
    {
      "cell_type": "markdown",
      "metadata": {},
      "source": [
        "\n=================================================\nZooming in chromosomal interaction domains (CIDs)\n=================================================\n"
      ]
    },
    {
      "cell_type": "code",
      "execution_count": null,
      "metadata": {
        "collapsed": false
      },
      "outputs": [],
      "source": [
        "import numpy as np\n\nfrom matplotlib import rc\nrc('text', usetex=True)\n\nimport matplotlib.pyplot as plt\n\nfrom circhic import datasets\nfrom circhic import CircHiCFigure\n\nfrom iced.normalization import ICE_normalization\n\n# Load the data, compute the cumulative raw counts.\ndata = datasets.load_ccrescentus()\ncounts_raw = data[\"counts\"]\nlengths = data[\"nbins\"]\ncumul_raw_counts = counts_raw.sum(axis=0)\n\n# Normalize the data using ICE, and keep the biases\ncounts, bias = ICE_normalization(counts_raw, output_bias=True)\n\n#compute extreme values\nvmax=np.max([counts[i,(i+1)%counts.shape[0]] for i in range(counts.shape[0])])\nvmin=np.min(counts[counts>0])\n\n#plotting the data\ngranularity = 0.5\nresolution = 9958\n\nfig = plt.figure(figsize=(6, 6))\n\ninner_radius, outer_radius = 0.4, 0.95\ninner_gdis, outer_gdis = 600000, 600000\n\nchrom_lengths = lengths * resolution\ncirchicfig = CircHiCFigure(chrom_lengths, figure=fig)\nm, ax = circhicfig.plot_hic(counts, granularity=granularity, resolution = resolution,\n                            outer_radius=outer_radius, inner_radius=inner_radius,\n                            inner_gdis=inner_gdis, outer_gdis=outer_gdis,\n                            vmin=vmin*100, vmax=vmax, cmap=\"bone_r\",border_thickness=0.005)\n\nrax = circhicfig.plot_raxis()\nrax.set_yticklabels([\"60\", \"0\", \"60\"], fontsize=\"small\")\nrax.set_ylabel(\"Genomic distance (kb)\", fontsize=\"small\", color=\"0.3\", position=(0,1.03))\nrax.tick_params(colors=\"0.3\")\n\ncab = circhicfig.set_colorbar(m, orientation=\"horizontal\")\ncab.set_label(\"Normalized contact counts\", fontsize=\"small\")\n\nticklabels = [\"%d~kb\" % (i * 500) for i in range(7)]    \ntickpositions=[int(i*500000) for i in range(7)]\nticklabels[0]=r\"$\\textit{oriC}$\"\nax = circhicfig.set_genomic_ticklabels(\n    tickpositions=tickpositions,\n    ticklabels=ticklabels,\n    outer_radius=0.98,fontdict={'fontsize':\"small\"})\nax.tick_params(colors=\"0.3\")"
      ]
    }
  ],
  "metadata": {
    "kernelspec": {
      "display_name": "Python 3",
      "language": "python",
      "name": "python3"
    },
    "language_info": {
      "codemirror_mode": {
        "name": "ipython",
        "version": 3
      },
      "file_extension": ".py",
      "mimetype": "text/x-python",
      "name": "python",
      "nbconvert_exporter": "python",
      "pygments_lexer": "ipython3",
      "version": "3.7.1"
    }
  },
  "nbformat": 4,
  "nbformat_minor": 0
}