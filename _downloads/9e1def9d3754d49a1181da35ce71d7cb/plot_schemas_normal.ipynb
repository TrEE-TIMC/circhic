{
  "cells": [
    {
      "cell_type": "code",
      "execution_count": null,
      "metadata": {
        "collapsed": false
      },
      "outputs": [],
      "source": [
        "%matplotlib inline"
      ]
    },
    {
      "cell_type": "markdown",
      "metadata": {},
      "source": [
        "\n# Understanding HiC contact maps\n\n"
      ]
    },
    {
      "cell_type": "code",
      "execution_count": null,
      "metadata": {
        "collapsed": false
      },
      "outputs": [],
      "source": [
        "import matplotlib\nimport matplotlib.pyplot as plt\nfrom matplotlib.ticker import MultipleLocator\n\nfrom matplotlib.patches import Rectangle\n\nfig, ax = plt.subplots(figsize=(8, 8), subplot_kw={\"aspect\": 1})\nax.set_xlim(0, 50)\nax.set_ylim(50, 0)\nax.plot([0, 50], [0, 50], linewidth=4, color=\"black\", zorder=11)\nax.plot([0, 29], [21, 50], linewidth=3, color=\"r\", zorder=11)\nax.plot([21, 50], [0, 29], linewidth=3, color=\"r\", zorder=11)\n\nax.xaxis.set_major_locator(MultipleLocator(10))\nax.xaxis.set_minor_locator(MultipleLocator(1))\nax.yaxis.set_major_locator(MultipleLocator(10))\nax.yaxis.set_minor_locator(MultipleLocator(1))\n\nax.tick_params(which='major', width=1.0)\nax.tick_params(which='major', length=10)\nax.tick_params(which='minor', width=1.0, labelsize=10)\nax.tick_params(which='minor', length=5, labelsize=10, labelcolor='0.25')\nax.xaxis.tick_top()\n\nax.grid(linestyle=\"--\", linewidth=0.5, color='.25', zorder=-10)\n\nax.set_title(\"Contact map\",\n             fontsize=20, verticalalignment='bottom')\n\n\ndef circle(x, y, radius=2):\n    from matplotlib.patches import Circle\n    from matplotlib.patheffects import withStroke\n    circle = Circle((x, y), radius, clip_on=False, zorder=12, linewidth=1,\n                    edgecolor='black', facecolor=(0, 0, 0, .0125),\n                    path_effects=[withStroke(linewidth=5, foreground='w')])\n    ax.add_artist(circle)\n\n\ndef text(x, y, text, zorder=10):\n    ax.text(x, y, text, backgroundcolor=\"white\",\n            ha='center', va='top', weight='bold', color='blue', zorder=zorder)\n\n\n# k-th diagonal\ncircle(24, 3)\ntext(24, 5.5, \"k-th\\ndiagonal\")\n\ncircle(11, 32)\ntext(11, 35.5, \"k-th\\ndiagonal\\n(symmetric)\")\n\n\ncircle(8, 8)\ntext(8, 11.5, \"Main\\ndiagonal\")\n\nrect = Rectangle((33.5, 24.5), 1, 1, facecolor=\"black\", fill=True)\nax.add_artist(rect)\nax.plot([0, 34], [25, 25], linestyle=\":\", color=\".25\", lw=0.5)\nax.plot([34, 34], [0, 25], linestyle=\":\", color=\".25\", lw=0.5)\ncircle(34, 25)\ntext(34, 27.5, \"Contact count\\nbetween i and j\", zorder=12)\n\nrect = Rectangle((24.5, 33.5), 1, 1, facecolor=\"black\", fill=True)\nax.add_artist(rect)\nax.plot([0, 25], [34, 34], linestyle=\":\", color=\".25\", lw=0.5)\nax.plot([25, 25], [0, 34], linestyle=\":\", color=\".25\", lw=0.5)\ncircle(25, 34)\ntext(25, 36.5, \"Contact count\\nbetween i and j\\n(symmetric)\", zorder=10)\n\n\ncircle(34, 0)\ntext(34, 2.5, \"Loci j\")\ncircle(0, 25)\ntext(0, 27.5, \"Loci i\")\nfig.savefig(\"contact_map.png\")"
      ]
    }
  ],
  "metadata": {
    "kernelspec": {
      "display_name": "Python 3",
      "language": "python",
      "name": "python3"
    },
    "language_info": {
      "codemirror_mode": {
        "name": "ipython",
        "version": 3
      },
      "file_extension": ".py",
      "mimetype": "text/x-python",
      "name": "python",
      "nbconvert_exporter": "python",
      "pygments_lexer": "ipython3",
      "version": "3.7.1"
    }
  },
  "nbformat": 4,
  "nbformat_minor": 0
}